{
  "nbformat": 4,
  "nbformat_minor": 0,
  "metadata": {
    "colab": {
      "provenance": []
    },
    "kernelspec": {
      "name": "python3",
      "display_name": "Python 3"
    },
    "language_info": {
      "name": "python"
    },
    "accelerator": "GPU"
  },
  "cells": [
    {
      "cell_type": "markdown",
      "metadata": {
        "id": "FlkUWhvSu-ja"
      },
      "source": [
        "Author: Kyle Hsu\n",
        "\n",
        "With revisions from: Rafael Rafailov, Evan Liu, Fahim Tajwar"
      ]
    },
    {
      "cell_type": "markdown",
      "metadata": {
        "id": "HI43aS5mRO1s"
      },
      "source": [
        "# Introduction\n",
        "Welcome to the PyTorch tutorial for XCS330! This colab notebook accompanies [these slides](https://docs.google.com/presentation/d/1e_md1C24vZsMNtbAJyNyDkau99owklm65IG9MudizvE/edit?usp=sharing). If you haven't already, enable a GPU for this colab instance by doing \"Edit\" -> \"Notebook settings\" -> \"Hardware accelerator\" drop-down -> \"GPU\" -> \"Save\"."
      ]
    },
    {
      "cell_type": "markdown",
      "metadata": {
        "id": "H7cLA7izR_zl"
      },
      "source": [
        "Let's make sure we're using the right Python and PyTorch versions, and that we have a GPU at our disposal."
      ]
    },
    {
      "cell_type": "code",
      "metadata": {
        "id": "I12wdApTZC_H",
        "outputId": "1f5efdaa-f4ec-476f-b24e-e2b2f86bbbfe",
        "colab": {
          "base_uri": "https://localhost:8080/"
        }
      },
      "source": [
        "import sys\n",
        "import torch\n",
        "print(f'Python version info: {sys.version}')\n",
        "print(f'PyTorch version info: {torch.__version__}')\n",
        "print(f'PyTorch detects a GPU: {torch.cuda.is_available()}')"
      ],
      "execution_count": null,
      "outputs": [
        {
          "output_type": "stream",
          "name": "stdout",
          "text": [
            "Python version info: 3.10.12 (main, Nov 20 2023, 15:14:05) [GCC 11.4.0]\n",
            "PyTorch version info: 2.1.0+cu121\n",
            "PyTorch detects a GPU: True\n"
          ]
        }
      ]
    },
    {
      "cell_type": "markdown",
      "metadata": {
        "id": "ptKO3cRFTjWo"
      },
      "source": [
        "# Overview\n",
        "We'll begin by doing some MNIST classification, starting from low-level operations and gradually replacing chunks using `torch` abstractions such as `torch.nn.Module`, `torch.optim.SGD`, and `torch.utils.data.DataLoader`. (Much of this content is adapted from [this tutorial](https://pytorch.org/tutorials/beginner/nn_tutorial.html) by Jeremy Howard.) We'll then proceed to a whirlwind tour over PyTorch features that we suspect will be relevant for your homeworks for this course. Finally, we'll see some tips and tricks for debugging and getting help."
      ]
    },
    {
      "cell_type": "markdown",
      "metadata": {
        "id": "8t8qKU2yVE5Q"
      },
      "source": [
        "# PyTorch Basics via MNIST\n",
        "### MNIST\n",
        "Download MNIST."
      ]
    },
    {
      "cell_type": "code",
      "metadata": {
        "id": "4VB4quTfVHCb"
      },
      "source": [
        "from pathlib import Path\n",
        "import requests\n",
        "\n",
        "DATA_PATH = Path(\"./data\")\n",
        "PATH = DATA_PATH / \"mnist\"\n",
        "\n",
        "PATH.mkdir(parents=True, exist_ok=True)\n",
        "\n",
        "URL = \"https://github.com/pytorch/tutorials/raw/main/_static/\"\n",
        "FILENAME = \"mnist.pkl.gz\"\n",
        "\n",
        "if not (PATH / FILENAME).exists():\n",
        "        content = requests.get(URL + FILENAME).content\n",
        "        (PATH / FILENAME).open(\"wb\").write(content)"
      ],
      "execution_count": null,
      "outputs": []
    },
    {
      "cell_type": "markdown",
      "metadata": {
        "id": "G7K4tLsIVURi"
      },
      "source": [
        "Load MNIST into memory."
      ]
    },
    {
      "cell_type": "code",
      "metadata": {
        "id": "EzxqdhhKVTMA"
      },
      "source": [
        "import pickle\n",
        "import gzip\n",
        "import numpy as np\n",
        "\n",
        "with gzip.open((PATH / FILENAME).as_posix(), \"rb\") as f:\n",
        "        ((x_train, y_train), (x_val, y_val), _) = pickle.load(f, encoding=\"latin-1\")"
      ],
      "execution_count": null,
      "outputs": []
    },
    {
      "cell_type": "markdown",
      "metadata": {
        "id": "ouKpbI6DWYWx"
      },
      "source": [
        "The data currently exists as NumPy arrays. Let's take a closer look."
      ]
    },
    {
      "cell_type": "code",
      "metadata": {
        "id": "EG9KpubhWbNZ"
      },
      "source": [
        "%matplotlib inline\n",
        "import matplotlib.pyplot as plt\n",
        "import numpy as np\n",
        "\n",
        "print(f'training inputs: shape {x_train.shape}, dtype {x_train.dtype}')\n",
        "print(f'training outputs: shape {y_train.shape}, dtype {y_train.dtype}')\n",
        "print(f'input range: {x_train.min(), x_train.max()}')\n",
        "print(f'label range: {y_train.min(), y_train.max()}')\n",
        "\n",
        "i_example = 42\n",
        "x_train_example = x_train[i_example].reshape((28, 28))\n",
        "y_train_example = y_train[i_example]\n",
        "plt.imshow(x_train_example, cmap='gray')\n",
        "print(f'label of training example {i_example}: {y_train_example}')"
      ],
      "execution_count": null,
      "outputs": []
    },
    {
      "cell_type": "markdown",
      "metadata": {
        "id": "COOGtiMZXqYq"
      },
      "source": [
        "We need to convert the data into PyTorch tensors. For ease of use, tensors have some familiar attributes and methods."
      ]
    },
    {
      "cell_type": "code",
      "metadata": {
        "id": "VEk34MTIVfh2"
      },
      "source": [
        "x_train, y_train, x_val, y_val = map(torch.tensor, (x_train, y_train, x_val, y_val))\n",
        "print(f'training inputs: shape {x_train.shape}, dtype {x_train.dtype}')\n",
        "print(f'training outputs: shape {y_train.shape}, dtype {y_train.dtype}')\n",
        "print(f'input range: {x_train.min(), x_train.max()}')\n",
        "print(f'label range: {y_train.min(), y_train.max()}')"
      ],
      "execution_count": null,
      "outputs": []
    },
    {
      "cell_type": "markdown",
      "metadata": {
        "id": "YuLs5f2bcwXU"
      },
      "source": [
        "### Bare Metal MNIST\n",
        "We will first train a model for classifying MNIST digits with nothing but tensor and gradient operations. We'll later substitute out chunks of this code with the appropriate PyTorch abstractions.\n",
        "\n",
        "To keep things simple, for this we'll use a linear model. For a single example, the model is\n",
        "$$ z = W^\\top x + b $$\n",
        "where $W \\in \\mathbb{R}^{784 \\times 10}$ and $b \\in \\mathbb{R}^{10}$ are the parameters to be learned, $x \\in [0, 1]^{784}$ is the MNIST image, and $z \\in \\mathbb{R}^{10}$ are the logits of the categorical distribution for the label of $x$.\n",
        "\n",
        "To obtain categorical parameters from the logits, we do\n",
        "$$ p = \\text{softmax}(z) = \\frac{1}{\\sum_j \\exp(z_j)} \\exp(z).$$\n",
        "\n",
        "The label $y \\in \\{0, \\dots, 9\\}$ implicitly defines a one-hot categorical parameter vector $y' \\in \\{0, 1\\}^{10}$, where $y$ corresponds to the index of $y'$ that is 1. The negative log-likelihood is then\n",
        "$$ \\text{nll}(p, y) = - \\sum_{i=0}^{9} y'_i \\log(p_i) = -\\log(p_y)$$\n",
        "\n",
        "Note that our implementation will assume batched inputs with a batch size of $B$. That is,\n",
        "$$x_b = \\begin{bmatrix} x_1^\\top \\\\ \\vdots \\\\ x_B^\\top \\end{bmatrix} \\in [0, 1]^{B \\times 784}.$$ We can vectorize the above operations to process all $B$ inputs at once (naively using `for` loops is much, much slower). For example, to compute the logits, we have\n",
        "$$z_b = x_b W + \\begin{bmatrix} b^\\top \\\\ \\vdots \\\\ b^\\top \\end{bmatrix} \\in \\mathbb{R}^{B \\times 10}$$"
      ]
    },
    {
      "cell_type": "code",
      "metadata": {
        "id": "dZEHIaizc3CU"
      },
      "source": [
        "W = torch.randn(784, 10, requires_grad=True)\n",
        "b = torch.randn(10, requires_grad=True)\n",
        "\n",
        "def logits(x_b, W, b):\n",
        "    return x_b @ W + b    # addition is broadcasted\n",
        "\n",
        "def log_softmax(z_b):\n",
        "    return z_b - torch.logsumexp(z_b, dim=1, keepdim=True)  # combining log and softmax is more numerically stable\n",
        "\n",
        "def negative_log_likelihood(logp_b, y_b):\n",
        "    return -torch.mean(logp_b[range(y_b.shape[0]), y_b])   # indexing trick\n",
        "\n",
        "def accuracy(logit_b, y_b):\n",
        "    return (logit_b.argmax(dim=1) == y_b).float().mean().item()"
      ],
      "execution_count": null,
      "outputs": []
    },
    {
      "cell_type": "markdown",
      "metadata": {
        "id": "zQYMuIF7i87C"
      },
      "source": [
        "Note that the `requires_grad` keyword argument/attribute determines whether a tensor is a constant or a variable."
      ]
    },
    {
      "cell_type": "code",
      "metadata": {
        "id": "0vC_MuGOjDTn"
      },
      "source": [
        "print(b.requires_grad)\n",
        "print(y_train.requires_grad)"
      ],
      "execution_count": null,
      "outputs": []
    },
    {
      "cell_type": "markdown",
      "metadata": {
        "id": "DrS8cR3OiARG"
      },
      "source": [
        "### Computation Graph\n",
        "Now we have the opportunity to look at some of PyTorch's core mechanics: reverse-mode automatic differentiation (a.k.a. backpropagation) on a dynamic computation graph. Let's take a batch of training data and compute the average loss over the batch."
      ]
    },
    {
      "cell_type": "code",
      "metadata": {
        "id": "LGQELJgRg_TY"
      },
      "source": [
        "batch_size = 64\n",
        "x_b, y_b = x_train[:batch_size], y_train[:batch_size]\n",
        "\n",
        "def loss_fn(W, b, x_b, y_b):\n",
        "    logit_b = logits(x_b, W, b)\n",
        "    logp_b = log_softmax(logit_b)\n",
        "    loss = negative_log_likelihood(logp_b, y_b)\n",
        "    return loss\n",
        "\n",
        "loss = loss_fn(W, b, x_b, y_b)"
      ],
      "execution_count": null,
      "outputs": []
    },
    {
      "cell_type": "markdown",
      "metadata": {
        "id": "7YpM1c2sj-GN"
      },
      "source": [
        "Computations like the above are automagically recorded on a computation graph. Let's take a peek."
      ]
    },
    {
      "cell_type": "code",
      "metadata": {
        "id": "Iab2ejfRlpLv"
      },
      "source": [
        "!pip install torchviz"
      ],
      "execution_count": null,
      "outputs": []
    },
    {
      "cell_type": "code",
      "metadata": {
        "id": "5zVVH_dkkaeq"
      },
      "source": [
        "import torchviz\n",
        "torchviz.make_dot(loss)"
      ],
      "execution_count": null,
      "outputs": []
    },
    {
      "cell_type": "markdown",
      "metadata": {
        "id": "BwJ-5hG7mTOL"
      },
      "source": [
        "We can actually inspect tensors to see that each non-leaf variable tensor records its gradient function based on how it was obtained."
      ]
    },
    {
      "cell_type": "code",
      "metadata": {
        "id": "gbRLFWkWmUY8"
      },
      "source": [
        "print(b.grad_fn)    # leaf variable\n",
        "print(loss.grad_fn)\n",
        "print(x_b.grad_fn)  # not a variable"
      ],
      "execution_count": null,
      "outputs": []
    },
    {
      "cell_type": "markdown",
      "metadata": {
        "id": "0u88oEuRSZAG"
      },
      "source": [
        "### Using `autograd.grad` to Compute Gradients\n",
        "We can now use reverse-mode automatic differentiation to compute the gradient of the loss with respect to our parameters!"
      ]
    },
    {
      "cell_type": "code",
      "metadata": {
        "id": "a4IuGz-vNru5"
      },
      "source": [
        "from torch import autograd\n",
        "loss = loss_fn(W, b, x_b, y_b)\n",
        "W_grad, b_grad = autograd.grad(loss, inputs=(W, b))\n",
        "print(b_grad)"
      ],
      "execution_count": null,
      "outputs": []
    },
    {
      "cell_type": "markdown",
      "metadata": {
        "id": "I1U8J8ujfoSp"
      },
      "source": [
        "We're now ready to optimize our linear MNIST model. Each iteration consists of the following steps:\n",
        "* Sample a batch of training data.\n",
        "* Compute the logits from the inputs using the model parameters.\n",
        "* Compute a scalar loss from the logits and labels.\n",
        "* Compute the gradient of the loss with respect to the parameters.\n",
        "* Update the model parameters using the gradient.\n",
        "\n",
        "Note that the last step is done in a context manager that disables the construction of the computation graph.\n",
        "\n",
        "To check whether our optimization was successful, we'll look at the accuracy on the training data before and after."
      ]
    },
    {
      "cell_type": "code",
      "metadata": {
        "id": "iABo_4DPoInh"
      },
      "source": [
        "lr = 0.5\n",
        "num_epochs = 2\n",
        "\n",
        "def train(W, b):\n",
        "    print(f'accuracy before: {accuracy(logits(x_train, W, b), y_train)}')\n",
        "\n",
        "    for i_epoch in range(num_epochs):\n",
        "        i_batch_start = 0\n",
        "        while i_batch_start + batch_size < x_train.shape[0]:\n",
        "            x_b = x_train[i_batch_start:i_batch_start + batch_size]\n",
        "            y_b = y_train[i_batch_start:i_batch_start + batch_size]\n",
        "            i_batch_start += batch_size\n",
        "\n",
        "            logit_b = logits(x_b, W, b)\n",
        "            logp_b = log_softmax(logit_b)\n",
        "            loss = negative_log_likelihood(logp_b, y_b)\n",
        "            W_grad, b_grad = autograd.grad(loss, inputs=(W, b))\n",
        "\n",
        "            with torch.no_grad():   # we don't need gradients for this\n",
        "                W -= lr * W_grad\n",
        "                b -= lr * b_grad\n",
        "\n",
        "    print(f'accuracy after: {accuracy(logits(x_train, W, b), y_train)}')\n",
        "\n",
        "W = torch.randn(784, 10, requires_grad=True)\n",
        "b = torch.randn(10, requires_grad=True)\n",
        "train(W, b)"
      ],
      "execution_count": null,
      "outputs": []
    },
    {
      "cell_type": "markdown",
      "metadata": {
        "id": "sYArnyJ_nDCt"
      },
      "source": [
        "### Using `backward` to Compute Gradients\n",
        "An alternative to using `autograd.grad` is to call `backward()` on the loss tensor. This _accumulates_ gradients of leaf tensors into their `grad` attribute. (Note that with this we don't need to specify the variables we're taking the gradient with respect to, nor do we obtain the gradients as output from the function call.)\n",
        "\n",
        "When we're done using a gradient in a `grad` attribute, we should reset it to 0, else repeated accumulations may occur. We can do this with the `Tensor` method `zero_()`. (Note that the `_` signifies that the operation modifies the tensor in-place.)"
      ]
    },
    {
      "cell_type": "code",
      "metadata": {
        "id": "Ta5qt6V1kPAE"
      },
      "source": [
        "print('before computing gradients')\n",
        "print(b.grad)\n",
        "\n",
        "loss = loss_fn(W, b, x_b, y_b)\n",
        "loss.backward()\n",
        "print('after forward pass and calling backward()')\n",
        "print(b.grad)\n",
        "\n",
        "loss = loss_fn(W, b, x_b, y_b)\n",
        "loss.backward()\n",
        "print('after another forward pass and calling backward() again')\n",
        "print(b.grad)\n",
        "\n",
        "b.grad.zero_()\n",
        "print('after calling zero_()')\n",
        "print(b.grad)"
      ],
      "execution_count": null,
      "outputs": []
    },
    {
      "cell_type": "markdown",
      "metadata": {
        "id": "I9gxa-qsSc0i"
      },
      "source": [
        "When should you use `autograd.grad` vs. `backward`? In general, `backward` is more convenient, but there are times (e.g. in Homework 2) when you need more fine-grained control over gradient computation. Let's see what the training code looks like when we use `backward`:"
      ]
    },
    {
      "cell_type": "code",
      "metadata": {
        "id": "iYhQfdJDLJyj"
      },
      "source": [
        "def train(W, b):\n",
        "    print(f'accuracy before: {accuracy(logits(x_train, W, b), y_train)}')\n",
        "\n",
        "    for i_epoch in range(num_epochs):\n",
        "        i_batch_start = 0\n",
        "        while i_batch_start + batch_size < x_train.shape[0]:\n",
        "            x_b = x_train[i_batch_start:i_batch_start + batch_size]\n",
        "            y_b = y_train[i_batch_start:i_batch_start + batch_size]\n",
        "            i_batch_start += batch_size\n",
        "\n",
        "            logit_b = logits(x_b, W, b)\n",
        "            logp_b = log_softmax(logit_b)\n",
        "            loss = negative_log_likelihood(logp_b, y_b)\n",
        "            loss.backward()\n",
        "\n",
        "            with torch.no_grad():\n",
        "                W -= lr * W.grad\n",
        "                b -= lr * b.grad\n",
        "                W.grad.zero_()\n",
        "                b.grad.zero_()\n",
        "\n",
        "    print(f'accuracy after: {accuracy(logits(x_train, W, b), y_train)}')\n",
        "\n",
        "W = torch.randn(784, 10, requires_grad=True)\n",
        "b = torch.randn(10, requires_grad=True)\n",
        "train(W, b)"
      ],
      "execution_count": null,
      "outputs": []
    },
    {
      "cell_type": "markdown",
      "metadata": {
        "id": "v1MUJ0cfxD58"
      },
      "source": [
        "### `nn.functional`\n",
        "Now, let's refactor and extend our training code by allowing ourselves to use other `torch` modules. We'll first look at `torch.nn`.\n",
        "\n",
        "`nn.functional` (commonly abbreviated as just `F`) includes many useful functions, e.g. loss functions and activation functions. In particular, `F.cross_entropy` combines the `log_softmax` and `negative_log_likelihood` functions into one.\n",
        "\n",
        "If you're used to using TensorFlow's [CategoricalCrossentropy loss](https://www.tensorflow.org/api_docs/python/tf/keras/losses/CategoricalCrossentropy), note that `F.cross_entropy` takes integer labels, not one-hot labels"
      ]
    },
    {
      "cell_type": "code",
      "metadata": {
        "id": "5A2M3dY4xpfs"
      },
      "source": [
        "import torch.nn as nn\n",
        "import torch.nn.functional as F\n",
        "\n",
        "with torch.no_grad():\n",
        "    logit_b = logits(x_b, W, b)\n",
        "    print(negative_log_likelihood(log_softmax(logit_b), y_b))\n",
        "    print(F.cross_entropy(logit_b, y_b))"
      ],
      "execution_count": null,
      "outputs": []
    },
    {
      "cell_type": "markdown",
      "metadata": {
        "id": "I91UsJOmyv1b"
      },
      "source": [
        "### `nn.Module`\n",
        "`nn.Module` is a useful class that corresponds loosely to an intuitive notion of a parameterized model. It\n",
        "* registers `nn.Parameter`s, which are essentially variable tensors, as attributes\n",
        "* holds as the `forward` method the model's forward pass"
      ]
    },
    {
      "cell_type": "code",
      "metadata": {
        "id": "MIN1V4b7yvGF"
      },
      "source": [
        "class MNISTLinear(nn.Module):\n",
        "    def __init__(self):\n",
        "        super().__init__()\n",
        "        self.W = nn.Parameter(torch.randn(784, 10))\n",
        "        self.b = nn.Parameter(torch.randn(10))\n",
        "\n",
        "    def forward(self, x_b):\n",
        "        return x_b @ self.W + self.b"
      ],
      "execution_count": null,
      "outputs": []
    },
    {
      "cell_type": "markdown",
      "metadata": {
        "id": "Mpd724uU3Vkg"
      },
      "source": [
        "Using the `nn.Module` can be very convenient. For example, previously we had to manually zero the `grad` attribute of `W` and `b`. We can now use the `parameters` method, which returns an iterator over module parameters, and the `zero_grad` method, which zeros the `grad` attribute of every module parameter.\n",
        "\n",
        "After substituting code for the model forward pass, the loss computation, the optimization step, and the gradient zeroing, the training code now looks like this:"
      ]
    },
    {
      "cell_type": "code",
      "metadata": {
        "id": "5SJlK8y24BHn"
      },
      "source": [
        "def train(model):\n",
        "    print(f'accuracy before: {accuracy(model(x_train), y_train)}')\n",
        "\n",
        "    for i_epoch in range(num_epochs):\n",
        "        i_batch_start = 0\n",
        "        while i_batch_start + batch_size < x_train.shape[0]:\n",
        "            x_b = x_train[i_batch_start:i_batch_start + batch_size]\n",
        "            y_b = y_train[i_batch_start:i_batch_start + batch_size]\n",
        "            i_batch_start += batch_size\n",
        "\n",
        "            logit_b = model(x_b)    # an nn.Module is callable\n",
        "            loss = F.cross_entropy(logit_b, y_b)\n",
        "            loss.backward()\n",
        "\n",
        "            with torch.no_grad():\n",
        "                for p in model.parameters():\n",
        "                    p -= lr * p.grad\n",
        "                model.zero_grad()\n",
        "\n",
        "    print(f'accuracy after: {accuracy(model(x_train), y_train)}')\n",
        "\n",
        "train(MNISTLinear())"
      ],
      "execution_count": null,
      "outputs": []
    },
    {
      "cell_type": "markdown",
      "metadata": {
        "id": "czAS_2oo4qrP"
      },
      "source": [
        "`nn` contains many `nn.Module` subclasses that correspond to commonly used chunks of computation. One such \"layer\" is the linear model we've been using! We can replace our `MNISTLinear` class with an `nn.Linear`."
      ]
    },
    {
      "cell_type": "code",
      "metadata": {
        "id": "Ed2QkQ768CLI"
      },
      "source": [
        "train(nn.Linear(784, 10))"
      ],
      "execution_count": null,
      "outputs": []
    },
    {
      "cell_type": "markdown",
      "metadata": {
        "id": "B2qhStDy8lrP"
      },
      "source": [
        "Our optimization went differently in 2 epochs this time around. This is probably because the parameters in `nn.Linear` are [initialized slightly differently](https://pytorch.org/docs/stable/generated/torch.nn.Linear.html). It's always important to read documentation!"
      ]
    },
    {
      "cell_type": "markdown",
      "metadata": {
        "id": "hkOLJWAH8zYD"
      },
      "source": [
        "### MNIST MLP\n",
        "What if we want to use a two-layer fully-connected network? `nn.Module`s can register `nn.Module` attributes!"
      ]
    },
    {
      "cell_type": "code",
      "metadata": {
        "id": "60V-yAKM5m00"
      },
      "source": [
        "class MNISTMLP(nn.Module):\n",
        "    def __init__(self):\n",
        "        super().__init__()\n",
        "        self.linear1 = nn.Linear(784, 64)\n",
        "        self.activation = nn.ReLU()\n",
        "        self.linear2 = nn.Linear(64, 10)\n",
        "\n",
        "    def forward(self, x_b):\n",
        "        return self.linear2(self.activation(self.linear1(x_b)))\n",
        "\n",
        "train(MNISTMLP())"
      ],
      "execution_count": null,
      "outputs": []
    },
    {
      "cell_type": "markdown",
      "source": [
        "##Saving/Loading pre-trained weights\n",
        "Sometimes multiple people may have to use the same network. It can take a lot of time for everyone to train their network from scratch. It is environmentally also disastrous as the carbon footprint of training large networks is very huge.\n",
        "\n",
        "It would be better if we could train and save weights for our network, and reuse them later if we need to. PyTorch gives us ways to do this easily!"
      ],
      "metadata": {
        "id": "eG2yPUjhYzzx"
      }
    },
    {
      "cell_type": "code",
      "source": [
        "network = MNISTMLP()\n",
        "train(network)\n",
        "\n",
        "torch.save(network.state_dict(), \"network.pt\")"
      ],
      "metadata": {
        "id": "BjZ2iBpbbPDS"
      },
      "execution_count": null,
      "outputs": []
    },
    {
      "cell_type": "markdown",
      "source": [
        "The above code saves the network's weights to the given path, in this case \"network.pt\". Now we will show that loading the model's weight without retraining it from scratch retrieves prior performance."
      ],
      "metadata": {
        "id": "9Ew8Ken2b4He"
      }
    },
    {
      "cell_type": "code",
      "source": [
        "network = MNISTMLP()\n",
        "print(f'accuracy of initialized network: {accuracy(network(x_train), y_train)}')\n",
        "\n",
        "network.load_state_dict(torch.load(\"network.pt\"))\n",
        "print(f'accuracy after loading weights: {accuracy(network(x_train), y_train)}')"
      ],
      "metadata": {
        "id": "4doKE58-cJV3"
      },
      "execution_count": null,
      "outputs": []
    },
    {
      "cell_type": "markdown",
      "metadata": {
        "id": "FYXTLH477ooG"
      },
      "source": [
        "### Are You Registered?\n",
        "`nn.Module`s [have some specific rules](https://pytorch.org/docs/stable/generated/torch.nn.Module.html) regarding what attributes are properly registered (i.e. identified as part of the model). We've seen that `nn.Parameter`s and `nn.Module`s are, but most Python objects are not. For example, you might consider it cleaner to implement the `MNISTMLP` this way:"
      ]
    },
    {
      "cell_type": "code",
      "metadata": {
        "id": "8sIQ_XOf-NM1"
      },
      "source": [
        "class MNISTMLP(nn.Module):\n",
        "    def __init__(self):\n",
        "        super().__init__()\n",
        "        self.layers = [\n",
        "            nn.Linear(784, 64),\n",
        "            nn.ReLU(),\n",
        "            nn.Linear(64, 10)\n",
        "        ]\n",
        "\n",
        "    def forward(self, x_b):\n",
        "        for layer in self.layers:\n",
        "            x_b = layer(x_b)\n",
        "        return x_b\n",
        "\n",
        "train(MNISTMLP())\n",
        "print(list(MNISTMLP().parameters()))"
      ],
      "execution_count": null,
      "outputs": []
    },
    {
      "cell_type": "markdown",
      "metadata": {
        "id": "Mn3Ogmn4-umv"
      },
      "source": [
        "Uh oh! Even though the `layers` list has `nn.Module`s, it itself wasn't recognized as a registerable attribute. To get around this, we have the `nn.ModuleList`:"
      ]
    },
    {
      "cell_type": "code",
      "metadata": {
        "id": "IA21B41t-7fL"
      },
      "source": [
        "class MNISTMLP(nn.Module):\n",
        "    def __init__(self):\n",
        "        super().__init__()\n",
        "        self.layers = nn.ModuleList([\n",
        "            nn.Linear(784, 64),\n",
        "            nn.ReLU(),\n",
        "            nn.Linear(64, 10)\n",
        "        ])\n",
        "\n",
        "    def forward(self, x_b):\n",
        "        for layer in self.layers:\n",
        "            x_b = layer(x_b)\n",
        "        return x_b\n",
        "\n",
        "train(MNISTMLP())"
      ],
      "execution_count": null,
      "outputs": []
    },
    {
      "cell_type": "markdown",
      "metadata": {
        "id": "sN4KUQfu_QW7"
      },
      "source": [
        "### `nn.Sequential`\n",
        "It's pretty common to have a sequence of layers we want to iteratively apply onto an input. We can replace the `for` loop business in the forward pass by using an `nn.Sequential` container, a very commonly used abstraction:"
      ]
    },
    {
      "cell_type": "code",
      "metadata": {
        "id": "rooDuNM2_C4S"
      },
      "source": [
        "train(nn.Sequential(\n",
        "    nn.Linear(784, 64),\n",
        "    nn.ReLU(),\n",
        "    nn.Linear(64, 10)\n",
        "))"
      ],
      "execution_count": null,
      "outputs": []
    },
    {
      "cell_type": "markdown",
      "metadata": {
        "id": "Zx745oji_vrm"
      },
      "source": [
        "### `torch.optim`\n",
        "`torch.optim` contains implementations of many common optimization algorithms. When initializing an optimizer instance, we need to pass in the model parameters. Now, instead of manually coding the update rule, we call the optimizer's `step` method. The optimizer can also handle resetting parameter gradients."
      ]
    },
    {
      "cell_type": "code",
      "metadata": {
        "id": "tupyWULJ7ZpU"
      },
      "source": [
        "from torch import optim\n",
        "\n",
        "def train(model):\n",
        "    optimizer = optim.SGD(model.parameters(), lr=lr)\n",
        "\n",
        "    print(f'accuracy before: {accuracy(model(x_train), y_train)}')\n",
        "\n",
        "    for i_epoch in range(num_epochs):\n",
        "        i_batch_start = 0\n",
        "        while i_batch_start + batch_size < x_train.shape[0]:\n",
        "            x_b = x_train[i_batch_start:i_batch_start + batch_size]\n",
        "            y_b = y_train[i_batch_start:i_batch_start + batch_size]\n",
        "            i_batch_start += batch_size\n",
        "\n",
        "            logit_b = model(x_b)\n",
        "            loss = F.cross_entropy(logit_b, y_b)\n",
        "            loss.backward()\n",
        "\n",
        "            optimizer.step()\n",
        "            optimizer.zero_grad()\n",
        "\n",
        "    print(f'accuracy after: {accuracy(model(x_train), y_train)}')\n",
        "\n",
        "train(MNISTMLP())"
      ],
      "execution_count": null,
      "outputs": []
    },
    {
      "cell_type": "markdown",
      "metadata": {
        "id": "h7SRGPQQ-VSB"
      },
      "source": [
        "### `torch.utils.data`\n",
        "Notice how we are manually slicing the `x_train` and `y_train` tensors to get batches. There's a more convenient way to do this:\n",
        "`torch.utils.data` features the `Dataset`, `Sampler`, and `DataLoader` abstractions, which are useful for transforming, sampling, and iterating over data. Let's implement a custom `Dataset` subclass for MNIST which we can then use to instantiate a `DataLoader`:"
      ]
    },
    {
      "cell_type": "code",
      "metadata": {
        "id": "wL0iPSSRKpER"
      },
      "source": [
        "from torch.utils import data\n",
        "\n",
        "class MNISTDataset(data.Dataset):\n",
        "    def __init__(self, x, y):\n",
        "        self.x = x\n",
        "        self.y = y\n",
        "\n",
        "    def __len__(self):\n",
        "        return len(self.y)\n",
        "\n",
        "    def __getitem__(self, idx):\n",
        "        return self.x[idx], self.y[idx]\n",
        "\n",
        "dataset_train = MNISTDataset(x_train, y_train)\n",
        "dataloader_train = data.DataLoader(dataset_train, batch_size=batch_size)\n",
        "\n",
        "def train(model):\n",
        "    optimizer = optim.SGD(model.parameters(), lr=lr)\n",
        "\n",
        "    print(f'accuracy before: {accuracy(model(x_train), y_train)}')\n",
        "\n",
        "    for i_epoch in range(num_epochs):\n",
        "        for x_b, y_b in dataloader_train:   # dataloaders are iterators\n",
        "            logit_b = model(x_b)\n",
        "            loss = F.cross_entropy(logit_b, y_b)\n",
        "            loss.backward()\n",
        "\n",
        "            optimizer.step()\n",
        "            optimizer.zero_grad()\n",
        "\n",
        "    print(f'accuracy after: {accuracy(model(x_train), y_train)}')\n",
        "\n",
        "train(MNISTMLP())"
      ],
      "execution_count": null,
      "outputs": []
    },
    {
      "cell_type": "markdown",
      "metadata": {
        "id": "J3flJEs4LKZK"
      },
      "source": [
        "### Using a GPU\n",
        "Now, let's see how to use a GPU in PyTorch. Every tensor has a `device` attribute (default: `'cpu'`). GPU-accelerated computation requires the involved tensors to all be on device `'cuda'`. The `to` method is a handy way to move tensors around.\n",
        "\n"
      ]
    },
    {
      "cell_type": "code",
      "metadata": {
        "id": "iWosupXrT_IV"
      },
      "source": [
        "x = torch.tensor(1.)\n",
        "print(x.device)\n",
        "x = x.to('cuda')\n",
        "print(x.device)"
      ],
      "execution_count": null,
      "outputs": []
    },
    {
      "cell_type": "markdown",
      "metadata": {
        "id": "E6ms19-qYfHB"
      },
      "source": [
        "The `nn.Module` also has a `to` method that transfers all parameters (and buffer items) to a specified device."
      ]
    },
    {
      "cell_type": "code",
      "metadata": {
        "id": "EeokNbD3YDXr"
      },
      "source": [
        "from torch.utils import data\n",
        "\n",
        "dataset_train = data.TensorDataset(x_train, y_train)\n",
        "dataloader_train = data.DataLoader(dataset_train, batch_size=batch_size)\n",
        "\n",
        "def train(model):\n",
        "    optimizer = optim.SGD(model.parameters(), lr=lr)\n",
        "\n",
        "    print(f'accuracy before: {accuracy(model(x_train.to(\"cuda\")), y_train.to(\"cuda\"))}')\n",
        "\n",
        "    for i_epoch in range(num_epochs):\n",
        "        for x_b, y_b in dataloader_train:\n",
        "            x_b, y_b = x_b.to('cuda'), y_b.to('cuda')\n",
        "            logit_b = model(x_b)\n",
        "            loss = F.cross_entropy(logit_b, y_b)\n",
        "            loss.backward()\n",
        "\n",
        "            optimizer.step()\n",
        "            optimizer.zero_grad()\n",
        "\n",
        "    print(f'accuracy after: {accuracy(model(x_train.to(\"cuda\")), y_train.to(\"cuda\"))}')\n",
        "\n",
        "train(MNISTMLP().to('cuda'))"
      ],
      "execution_count": null,
      "outputs": []
    },
    {
      "cell_type": "markdown",
      "metadata": {
        "id": "eIKUTPPTVT2e"
      },
      "source": [
        "### Clean-up\n",
        "To wrap this section up, we'll refactor our code to facilitate assessing on both train and val data with data-loading, and using the GPU."
      ]
    },
    {
      "cell_type": "code",
      "metadata": {
        "id": "PCtv2mcTAWSF"
      },
      "source": [
        "dataset_val = data.TensorDataset(x_val, y_val)\n",
        "dataloader_val = data.DataLoader(dataset_val, batch_size=batch_size)\n",
        "\n",
        "def loss_fn(model, x_b, y_b):\n",
        "    logit_b = model(x_b)\n",
        "    loss = F.cross_entropy(logit_b, y_b)\n",
        "    return loss, y_b.shape[0]\n",
        "\n",
        "def accuracy(model, x_b, y_b):\n",
        "    logit_b = model(x_b)\n",
        "    accuracy = (logit_b.argmax(dim=1) == y_b).float().mean()\n",
        "    return accuracy, y_b.shape[0]\n",
        "\n",
        "def assess(model, dataloader):\n",
        "    loss_total_r, correct_r, n_r = 0, 0, 0\n",
        "    with torch.no_grad():\n",
        "        for x_b, y_b in dataloader:\n",
        "            x_b, y_b = x_b.to('cuda'), y_b.to('cuda')\n",
        "            loss, n = loss_fn(model, x_b, y_b)\n",
        "            acc, n = accuracy(model, x_b, y_b)\n",
        "            loss_total_r += loss * n\n",
        "            correct_r += acc * n\n",
        "            n_r += n\n",
        "    loss_total_r, correct_r = loss_total_r.item(), correct_r.item()\n",
        "    return loss_total_r / n_r, correct_r / n_r\n",
        "\n",
        "def train(model, optimizer):\n",
        "    print('before')\n",
        "    print(f'train loss and acc: {assess(model, dataloader_train)}')\n",
        "    print(f'val loss and acc: {assess(model, dataloader_val)}')\n",
        "\n",
        "    for i_epoch in range(num_epochs):\n",
        "        for x_b, y_b in dataloader_train:\n",
        "            x_b, y_b = x_b.to('cuda'), y_b.to('cuda')\n",
        "            loss, _ = loss_fn(model, x_b, y_b)\n",
        "            loss.backward()\n",
        "\n",
        "            optimizer.step()\n",
        "            optimizer.zero_grad()\n",
        "\n",
        "    print('after')\n",
        "    print(f'train loss and acc: {assess(model, dataloader_train)}')\n",
        "    print(f'val loss and acc: {assess(model, dataloader_val)}')\n",
        "\n",
        "model = MNISTMLP().to('cuda')\n",
        "optimizer = optim.SGD(model.parameters(), lr=lr)\n",
        "train(model, optimizer)"
      ],
      "execution_count": null,
      "outputs": []
    },
    {
      "cell_type": "markdown",
      "metadata": {
        "id": "BwUn0NLuVjeY"
      },
      "source": [
        "# More PyTorch Features: A Whirlwind Tour"
      ]
    },
    {
      "cell_type": "markdown",
      "metadata": {
        "id": "xkZ98YSob72X"
      },
      "source": [
        "### MNIST CNN\n",
        "2D convolutional layers expect an input of shape $(B, C, H, W)$ or `(batch, channels, height, width)`. For a batch of MNIST images, this is $(B, 1, 28, 28)$."
      ]
    },
    {
      "cell_type": "code",
      "metadata": {
        "id": "tfXPPG3gb_cz"
      },
      "source": [
        "class MNISTCNN(nn.Module):\n",
        "    def __init__(self):\n",
        "        super().__init__()\n",
        "        self.layers = nn.Sequential(\n",
        "            nn.Conv2d(in_channels=1, out_channels=20, kernel_size=(5, 5), stride=1, padding=0),\n",
        "            nn.MaxPool2d(kernel_size=2, stride=2, padding=0),\n",
        "            nn.Conv2d(in_channels=20, out_channels=50, kernel_size=(5, 5), stride=1, padding=0),\n",
        "            nn.MaxPool2d(kernel_size=2, stride=2, padding=0),\n",
        "            nn.Flatten(),\n",
        "            nn.Linear(800, 500),\n",
        "            nn.ReLU(),\n",
        "            nn.Linear(500, 10)\n",
        "        )\n",
        "\n",
        "    def forward(self, x_b):\n",
        "        return self.layers(x_b.view((-1, 1, 28, 28)))\n",
        "\n",
        "model = MNISTCNN().to('cuda')\n",
        "optimizer = optim.Adam(model.parameters(), lr=1e-3)\n",
        "train(model, optimizer)"
      ],
      "execution_count": null,
      "outputs": []
    },
    {
      "cell_type": "markdown",
      "metadata": {
        "id": "XLV7dSnk_xC4"
      },
      "source": [
        "### MNIST LSTM\n",
        "When constructed using the `batch_first=True` argument, `nn.LSTM`s expect inputs of shape $(B, L, D)$ or `(batch, sequence length, element size)`. We'll interpret the rows of the MNIST image as sequence elements, and compute the logits from the last LSTM output (i.e. wait for the LSTM to see the entire image)."
      ]
    },
    {
      "cell_type": "code",
      "metadata": {
        "id": "CSA3chD5Aiu_"
      },
      "source": [
        "class MNISTLSTM(nn.Module):\n",
        "    def __init__(self):\n",
        "        super().__init__()\n",
        "        self.LSTM = nn.LSTM(input_size=28, hidden_size=64, num_layers=1, batch_first=True)\n",
        "        self.linear = nn.Linear(64, 10)\n",
        "\n",
        "    def forward(self, x_b):\n",
        "        out, _ = self.LSTM(x_b.view((-1, 28, 28)))  # out contains outputs at each iteration over the sequence\n",
        "        return self.linear(out[:, -1, :])   # only the out at the last iteration has seen the entire image\n",
        "\n",
        "model = MNISTLSTM().to('cuda')\n",
        "optimizer = optim.Adam(model.parameters(), lr=1e-3)\n",
        "train(model, optimizer)"
      ],
      "execution_count": null,
      "outputs": []
    },
    {
      "cell_type": "markdown",
      "metadata": {
        "id": "j7gNjS2HEeEo"
      },
      "source": [
        "### `nn.Embedding`\n",
        "Oftentimes we will have categorical data with too many categories to comfortably convert into one-hot encodings. Examples of this include tokens in NLP and $(x,y)$ positions on a grid. One common way to process this data is to use an `nn.Embedding`, or a table of dense vectors that can be indexed by the categorical data. The dense vectors can be optimized. `nn.Embedding` supports advanced indexing."
      ]
    },
    {
      "cell_type": "code",
      "metadata": {
        "id": "_45NPu8MHZMu"
      },
      "source": [
        "embedding = nn.Embedding(num_embeddings=1000, embedding_dim=64)\n",
        "print(embedding(torch.tensor(42)).shape)\n",
        "print(embedding(torch.tensor(42)).requires_grad)\n",
        "indices = torch.tensor([\n",
        "    [0, 1, 42, 999],\n",
        "    [1, 1, 2, 3]\n",
        "])\n",
        "print(indices.shape)\n",
        "print(embedding(indices).shape)"
      ],
      "execution_count": null,
      "outputs": []
    },
    {
      "cell_type": "markdown",
      "metadata": {
        "id": "G4hyCvaoIq-c"
      },
      "source": [
        "If you're interested in NLP, a nice use of `nn.Embedding` and recurrent layers (`nn.GRU`) for natural language translation can be found in [this tutorial](https://pytorch.org/tutorials/intermediate/seq2seq_translation_tutorial.html)."
      ]
    },
    {
      "cell_type": "markdown",
      "metadata": {
        "id": "pun7z9zGqbvH"
      },
      "source": [
        "### `torch.distributions`\n",
        "Aside from conveniently providing commonly used methods (e.g. density/mass evaluation), one of the main features of this module is the use of the reparameterization trick to facilitate backpropagation through random samples to the underlying distribution parameters (and beyond)."
      ]
    },
    {
      "cell_type": "code",
      "metadata": {
        "id": "BHyPfnxdJvc4"
      },
      "source": [
        "from torch import distributions\n",
        "loc = torch.tensor(0., requires_grad=True)\n",
        "scale = torch.tensor(1., requires_grad=True)\n",
        "p = distributions.Normal(loc, scale)\n",
        "x = p.rsample(torch.Size([5]))\n",
        "print(x)    # grad_fn comes from reparameterization trick\n",
        "y = -torch.mean(x**2)\n",
        "y.backward()\n",
        "print(scale.grad)"
      ],
      "execution_count": null,
      "outputs": []
    },
    {
      "cell_type": "markdown",
      "metadata": {
        "id": "vRZRNM6MLZMU"
      },
      "source": [
        "If we don't use `rsample`, we can't take gradients through the sampling step."
      ]
    },
    {
      "cell_type": "code",
      "metadata": {
        "id": "sWDu3fi6LN0y"
      },
      "source": [
        "x = p.sample(torch.Size([5]))\n",
        "print(x)\n",
        "y = -torch.sum(x**2)\n",
        "y.backward()"
      ],
      "execution_count": null,
      "outputs": []
    },
    {
      "cell_type": "markdown",
      "metadata": {
        "id": "GrIbkiJhNyRF"
      },
      "source": [
        "# Debugging, Documentation, and Getting Help\n",
        "Your assignments won't be in Jupyter notebooks, but in Python scripts. This means you won't have the interactivity of cell-based execution, but to the rescue comes `pdb`, the Python Debugger. Use it to\n",
        "\n",
        "*   set breakpoints in the code to interactively inspect program elements: `import pdb; pdb.set_trace()`\n",
        "*   automatically start a debugging session when an exception is thrown: `python -m pdb -c continue main.py`\n",
        "\n",
        "Both will be super, super useful.\n",
        "\n",
        "When something about PyTorch is confusing you, the first place to look is the [PyTorch documentation](https://https://pytorch.org/docs/stable/index.html). (The author of this tutorial consulted the documentation no fewer than 20 times when making it.) This is often the last place you need to look, but sometimes the [PyTorch forums](https://https://discuss.pytorch.org/) can be helpful, too. (Use the search tool!) And of course, you're always welcome to post on Ed or seek out one of your friendly neighborhood CAs.\n",
        "\n"
      ]
    },
    {
      "cell_type": "markdown",
      "metadata": {
        "id": "c5FIR5icqCax"
      },
      "source": [
        "\n",
        "\n",
        "---\n",
        "\n"
      ]
    }
  ]
}